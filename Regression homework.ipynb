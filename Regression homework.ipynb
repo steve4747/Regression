{
 "cells": [
  {
   "cell_type": "code",
   "execution_count": 2,
   "id": "0d101e64-b2bb-4956-a86d-e1618bea41e3",
   "metadata": {},
   "outputs": [],
   "source": [
    "import pandas as pd\r\n",
    "import numpy as np\r\n",
    "import matplotlib.pyplot as plt\r\n",
    "\r\n",
    "x = pd.read_excel(r'C:\\Users\\arcue\\Desktop\\data-ex-2-9_(Delivery_Time).xls')\r\n",
    "#可以對老師給的Excel按右鍵，複製路徑，就找到這串"
   ]
  },
  {
   "cell_type": "code",
   "execution_count": 3,
   "id": "bdaffd4d-2202-4aeb-9c26-61164825a6dc",
   "metadata": {},
   "outputs": [],
   "source": [
    "x = x.rename(columns={'Delivery Time, y': 'Y', 'Number of Cases, x': 'X'}) #轉換欄位名稱(只是為了方便後面不用打很長的欄位名稱)"
   ]
  },
  {
   "cell_type": "code",
   "execution_count": 4,
   "id": "c671d1c2-bc88-47c9-984d-3d9d16fc0541",
   "metadata": {},
   "outputs": [],
   "source": [
    "xbar = x['X'].mean() #計算平均值\r\n",
    "ybar = x['Y'].mean()"
   ]
  },
  {
   "cell_type": "code",
   "execution_count": 5,
   "id": "cc5d9ad2-2f2e-4184-9e0c-5badeb7f4919",
   "metadata": {},
   "outputs": [],
   "source": [
    "x['xxbar']=x['X']-xbar #新增x-xbar欄位，並且直接用X欄位做計算後帶入，計算x-xbar"
   ]
  },
  {
   "cell_type": "code",
   "execution_count": 6,
   "id": "ba076f4e-0e5d-40ca-b6d7-83fcc0f683dd",
   "metadata": {},
   "outputs": [],
   "source": [
    "x['yybar']=x['Y']-ybar #同x做法"
   ]
  },
  {
   "cell_type": "code",
   "execution_count": 7,
   "id": "c377fea1-fac1-4420-b42b-6f21ab5c1b89",
   "metadata": {},
   "outputs": [],
   "source": [
    "x['xxbar_square'] = x['xxbar'] ** 2"
   ]
  },
  {
   "cell_type": "code",
   "execution_count": 8,
   "id": "dfa989fb-c00b-4f59-abd2-b150c06321ce",
   "metadata": {},
   "outputs": [],
   "source": [
    "x['xxbar_yybar'] = x['xxbar'] * x['yybar']"
   ]
  },
  {
   "cell_type": "code",
   "execution_count": 9,
   "id": "5a2eeb78-cb37-4c5b-9dd9-cc286f9f324a",
   "metadata": {},
   "outputs": [],
   "source": [
    "b1 = x['xxbar_yybar'].mean()/x['xxbar_square'].mean()  #xxbar_yybar的總和 / xxbar_square的總和"
   ]
  },
  {
   "cell_type": "code",
   "execution_count": 10,
   "id": "5d9b22d2-83d7-4f40-96d0-5eb3c5c08353",
   "metadata": {},
   "outputs": [],
   "source": [
    "b0 = ybar - b1 * xbar    # ybar-b1*xbar"
   ]
  },
  {
   "cell_type": "code",
   "execution_count": 11,
   "id": "b4df9992-e775-4661-82ae-662cd08e7d19",
   "metadata": {},
   "outputs": [],
   "source": [
    "y_hat = b0 + b1*x['X'] #寫出方程式以帶入圖形"
   ]
  },
  {
   "cell_type": "code",
   "execution_count": 12,
   "id": "49d0f455-f99e-480b-a7b5-7ab9bb4050f4",
   "metadata": {},
   "outputs": [
    {
     "name": "stdout",
     "output_type": "stream",
     "text": [
      "b0= 3.3207798972337628 b1= 2.1761666783979723\r\n"
     ]
    },
    {
     "data": {
      "image/png": "[encoded data removed]",
      "text/plain": [
       "<Figure size 750x375 with 1 Axes>"
      ]
     },
     "metadata": {
      "needs_background": "light"
     },
     "output_type": "display_data"
    }
   ],
   "source": [
    "plt.figure( figsize=(10,5), dpi=75)\r\n",
    "plt.plot(x['X'], x['Y'], 'b.') #畫出x和y的分佈\r\n",
    "plt.plot(x['X'], y_hat, 'r-') #畫出方程式的線\r\n",
    "plt.xlabel(\"$X$\", fontsize = 18)\r\n",
    "plt.ylabel(\"$Y$\", rotation = 0, fontsize = 18)\r\n",
    "plt.title('Linear Regression')\r\n",
    "print(\"b0=\",b0,\"b1=\",b1)\r\n",
    "plt.savefig('迴歸分析作業圖.jpg')"
   ]
  },
  {
   "cell_type": "code",
   "execution_count": 13,
   "id": "6e0bf932-810f-45dc-9a32-df96a3aae0f0",
   "metadata": {},
   "outputs": [],
   "source": [
    "import seaborn as sns"
   ]
  },
  {
   "cell_type": "code",
   "execution_count": 14,
   "id": "7decbbe7-4b76-4cc6-b116-d2d5373bf9ab",
   "metadata": {},
   "outputs": [
    {
     "data": {
      "text/plain": [
       "Text(0.5, 1.0, 'Linear Regression')"
      ]
     },
     "execution_count": 14,
     "metadata": {},
     "output_type": "execute_result"
    },
    {
     "data": {
      "image/png": "[encoded data removed]",
      "text/plain": [
       "<Figure size 432x288 with 1 Axes>"
      ]
     },
     "metadata": {
      "needs_background": "light"
     },
     "output_type": "display_data"
    }
   ],
   "source": [
    "ax = sns.regplot(data=x, x='X', y='Y') #直接用回歸的函數來畫，超級快\r\n",
    "ax.set_title('Linear Regression')"
   ]
  },
  {
   "cell_type": "code",
   "execution_count": 39,
   "id": "5060cabe-985b-4ac3-a36b-218e78bd379b",
   "metadata": {},
   "outputs": [],
   "source": [
    "#HW2: finish the estimation table\r\n",
    "#y_hat = b0 + b1*x\r\n",
    "\r\n",
    "x['y_hat'] = b0 + b1*x['X']\r\n",
    "x['e'] = x['Y']-x['y_hat'] #計算殘差\r\n",
    "x['ee'] = x['e']**2        #計算殘差平方\r\n",
    "ss = sum(x['ee'])/(len(x['X'])-2)   #自由度n-2\r\n",
    "#自由度是來自項目數減去有幾個條件限制，未來如果項目數多的話，因此用len來計算項目數\r\n",
    "s = ss**0.5               #計算T檢定的標準差"
   ]
  },
  {
   "cell_type": "code",
   "execution_count": 45,
   "id": "90c805c1-7975-460e-ba20-a396fa97ff23",
   "metadata": {},
   "outputs": [],
   "source": [
    "b0se = s * (1/len(x['X']) + xbar**2 / sum(x['xxbar'])) ** 0.5\r\n",
    "b1se = s * sum(x['xxbar_square']) ** 0.5\r\n",
    "b0T = b0/b0se\r\n",
    "b1T = b1/b1se"
   ]
  },
  {
   "cell_type": "code",
   "execution_count": 1,
   "id": "0b315e18-ef41-4df8-9bcf-6d0d6e910e0f",
   "metadata": {},
   "outputs": [
    {
     "ename": "NameError",
     "evalue": "name 'b0T' is not defined",
     "output_type": "error",
     "traceback": [
      "\u001b[1;31m---------------------------------------------------------------------------\u001b[0m",
      "\u001b[1;31mNameError\u001b[0m                                 Traceback (most recent call last)",
      "\u001b[1;32m<ipython-input-1-487b3cf9dcd3>\u001b[0m in \u001b[0;36m<module>\u001b[1;34m\u001b[0m\r\n\u001b[0;32m      1\u001b[0m \u001b[1;32mfrom\u001b[0m \u001b[0mscipy\u001b[0m\u001b[1;33m.\u001b[0m\u001b[0mstats\u001b[0m \u001b[1;32mimport\u001b[0m \u001b[0mt\u001b[0m\u001b[1;33m\u001b[0m\u001b[1;33m\u001b[0m\u001b[0m\r\n\u001b[1;32m----> 2\u001b[1;33m \u001b[0mb0p\u001b[0m \u001b[1;33m=\u001b[0m \u001b[1;33m(\u001b[0m\u001b[1;36m1\u001b[0m\u001b[1;33m-\u001b[0m\u001b[0mt\u001b[0m\u001b[1;33m.\u001b[0m\u001b[0mcdf\u001b[0m\u001b[1;33m(\u001b[0m\u001b[0mabs\u001b[0m\u001b[1;33m(\u001b[0m\u001b[0mb0T\u001b[0m\u001b[1;33m)\u001b[0m\u001b[1;33m,\u001b[0m\u001b[0mlen\u001b[0m\u001b[1;33m(\u001b[0m\u001b[0mx\u001b[0m\u001b[1;33m[\u001b[0m\u001b[1;34m'X'\u001b[0m\u001b[1;33m]\u001b[0m\u001b[1;33m)\u001b[0m\u001b[1;33m)\u001b[0m\u001b[1;33m)\u001b[0m\u001b[1;33m*\u001b[0m\u001b[1;36m2\u001b[0m\u001b[1;33m\u001b[0m\u001b[1;33m\u001b[0m\u001b[0m\r\n\u001b[0m\u001b[0;32m      3\u001b[0m \u001b[0mb1p\u001b[0m \u001b[1;33m=\u001b[0m \u001b[1;33m(\u001b[0m\u001b[1;36m1\u001b[0m\u001b[1;33m-\u001b[0m\u001b[0mt\u001b[0m\u001b[1;33m.\u001b[0m\u001b[0mcdf\u001b[0m\u001b[1;33m(\u001b[0m\u001b[0mabs\u001b[0m\u001b[1;33m(\u001b[0m\u001b[0mb1T\u001b[0m\u001b[1;33m)\u001b[0m\u001b[1;33m,\u001b[0m\u001b[0mlen\u001b[0m\u001b[1;33m(\u001b[0m\u001b[0mx\u001b[0m\u001b[1;33m[\u001b[0m\u001b[1;34m'X'\u001b[0m\u001b[1;33m]\u001b[0m\u001b[1;33m)\u001b[0m\u001b[1;33m)\u001b[0m\u001b[1;33m)\u001b[0m\u001b[1;33m*\u001b[0m\u001b[1;36m2\u001b[0m\u001b[1;33m\u001b[0m\u001b[1;33m\u001b[0m\u001b[0m\r\n",
      "\u001b[1;31mNameError\u001b[0m: name 'b0T' is not defined"
     ]
    }
   ],
   "source": [
    "#要計算p-value需要用到 scipy這個套件，可以import各種所需要的檢定，這邊先以T檢定為主\r\n",
    "from scipy.stats import t\r\n",
    "b0p = (1-t.cdf(abs(b0T),len(x['X'])))*2\r\n",
    "b1p = (1-t.cdf(abs(b1T),len(x['X'])))*2"
   ]
  },
  {
   "cell_type": "code",
   "execution_count": 65,
   "id": "14e24f83-5fe4-49ce-a0ef-ace7655d0acd",
   "metadata": {},
   "outputs": [],
   "source": [
    "b0lower_limit = b0 - t.ppf(0.975,len(x['X'])-2)*b0se\r\n",
    "b0upper_limit = b0 + t.ppf(0.975,len(x['X'])-2)*b0se \r\n",
    "b1lower_limit = b1 - t.ppf(0.975,len(x['X'])-2)*b1se\r\n",
    "b1upper_limit = b1 + t.ppf(0.975,len(x['X'])-2)*b1se\r\n"
   ]
  },
  {
   "cell_type": "code",
   "execution_count": 66,
   "id": "a97c92a1-f467-47ea-882b-e1a158962d93",
   "metadata": {},
   "outputs": [
    {
     "name": "stdout",
     "output_type": "stream",
     "text": [
      "Estimation Table\r\n",
      "----------------------------------------------------------------------------------------------------\r\n",
      "  Parameter  Estimate  Standard Error             T   p-value    95%_Lo_Lim  \\\r\n",
      "0     Beta0  3.320780    2.896937e+08  1.146307e-08  1.000000 -5.992772e+08   \r\n",
      "1     Beta1  2.176167    1.409670e+02  1.543742e-02  0.987806 -2.894364e+02   \r\n",
      "\r\n",
      "     95%_Up_Lim  \r\n",
      "0  5.992772e+08  \r\n",
      "1  2.937887e+02  \r\n"
     ]
    }
   ],
   "source": [
    "#利用dataframe建立成一個表格，比較美觀\r\n",
    "EsTb = {\r\n",
    "    \"Parameter\" : ['Beta0' , 'Beta1'],\r\n",
    "    \"Estimate\" : [b0, b1],\r\n",
    "    \"Standard Error\" : [b0se, b1se],\r\n",
    "    \"T\" : [b0T, b1T],\r\n",
    "    \"p-value\" : [b0p, b1p],\r\n",
    "    \"95%_Lo_Lim\" : [b0lower_limit, b1lower_limit],\r\n",
    "    \"95%_Up_Lim\" : [b0upper_limit, b1upper_limit]\r\n",
    "}\r\n",
    "\r\n",
    "df = pd.DataFrame(EsTb)\r\n",
    "\r\n",
    "print(\"Estimation Table\")\r\n",
    "line = \"-\" *100 #放一個分隔線，比較容易閱讀\r\n",
    "print(line)\r\n",
    "print(df)\r\n",
    "\r\n",
    "#存檔\r\n",
    "df.to_csv(\"RegressionHW2\",encoding=\"utf_8_sig\")"
   ]
  },
  {
   "cell_type": "code",
   "execution_count": null,
   "id": "885c4f7d-dd82-4e34-a735-ae49f80887f4",
   "metadata": {},
   "outputs": [],
   "source": []
  }
 ],
 "metadata": {
  "kernelspec": {
   "display_name": "Python 3",
   "language": "python",
   "name": "python3"
  },
  "language_info": {
   "codemirror_mode": {
    "name": "ipython",
    "version": 3
   },
   "file_extension": ".py",
   "mimetype": "text/x-python",
   "name": "python",
   "nbconvert_exporter": "python",
   "pygments_lexer": "ipython3",
   "version": "3.8.8"
  }
 },
 "nbformat": 4,
 "nbformat_minor": 5
}
